{
 "cells": [
  {
   "cell_type": "markdown",
   "metadata": {},
   "source": [
    "# Q. 1"
   ]
  },
  {
   "cell_type": "code",
   "execution_count": 338,
   "metadata": {
    "collapsed": false
   },
   "outputs": [],
   "source": [
    "from pprint import pprint\n",
    "import numpy as np\n",
    "\n",
    "def get_P(mat):\n",
    "    num_cols = mat.shape[1]\n",
    "    I = np.identity(num_cols)\n",
    "    for col in range(num_cols):\n",
    "        max_row = col + np.argmax(mat[col:,col])\n",
    "        if max_row != col:\n",
    "            I[(col,max_row),:] = I[(max_row,col),:]\n",
    "    return I\n",
    " \n",
    "def get_l_d_u_p(A):\n",
    "    P = get_P(A)\n",
    "    A = P.dot(A)\n",
    "    n = A.shape[0]\n",
    "    L = np.identity(n)\n",
    "    U = np.zeros((n,n))\n",
    "    for i in range(n):\n",
    "        for j in range(i+1):\n",
    "            U[j,i] = A[j,i] - U[:j,i].dot(L[j,:j])\n",
    "        for j in range(i, n):\n",
    "            L[j,i] = (A[j,i] - U[:i,i].dot(L[j,:i])) / U[i,i]\n",
    "    D = np.zeros((n,n))\n",
    "    for i in range(n):\n",
    "        first = U[i,i]\n",
    "        D[i,i] = first\n",
    "        U[i,i:] /= first\n",
    "    return {'L': L, 'D': D, 'U': U, 'P': P}\n",
    " \n",
    "a = [[1, 3, 5], [2, 4, 7], [1, 1, 0]]\n",
    "a = np.array(a)\n",
    "\n",
    "def print_vals(a):\n",
    "    print(\"PA=LDU\")\n",
    "    for key,val in get_l_d_u_p(a).items():\n",
    "        print(key)\n",
    "        pprint(val)\n",
    "        print()\n",
    "\n",
    "def print_svd(u,s,v):\n",
    "    print(\"SVD -> A=USV*\")\n",
    "    print('U')\n",
    "    pprint(u)\n",
    "    print()\n",
    "    print('S')\n",
    "    pprint(s)\n",
    "    print()\n",
    "    print('V')\n",
    "    pprint(v.T)\n",
    "    print()"
   ]
  },
  {
   "cell_type": "markdown",
   "metadata": {},
   "source": [
    "# Q. 2"
   ]
  },
  {
   "cell_type": "code",
   "execution_count": 339,
   "metadata": {
    "collapsed": false
   },
   "outputs": [
    {
     "name": "stdout",
     "output_type": "stream",
     "text": [
      "PA=LDU\n",
      "L\n",
      "array([[ 1.        ,  0.        ,  0.        ],\n",
      "       [ 0.5       ,  1.        ,  0.        ],\n",
      "       [ 0.75      ,  2.16666667,  1.        ]])\n",
      "\n",
      "P\n",
      "array([[ 1.,  0.,  0.],\n",
      "       [ 0.,  1.,  0.],\n",
      "       [ 0.,  0.,  1.]])\n",
      "\n",
      "U\n",
      "array([[ 1.  ,  1.75,  0.  ],\n",
      "       [ 0.  ,  1.  ,  4.  ],\n",
      "       [ 0.  ,  0.  ,  1.  ]])\n",
      "\n",
      "D\n",
      "array([[  4. ,   0. ,   0. ],\n",
      "       [  0. ,  -1.5,   0. ],\n",
      "       [  0. ,   0. ,  14. ]])\n",
      "\n",
      "SVD -> A=USV*\n",
      "U\n",
      "array([[ 0.83108771,  0.36392168,  0.42054041],\n",
      "       [ 0.45440389, -0.88032036, -0.13621004],\n",
      "       [ 0.3206405 ,  0.30429769, -0.89699085]])\n",
      "\n",
      "S\n",
      "array([ 9.33057832,  5.78987054,  1.55489788])\n",
      "\n",
      "V\n",
      "array([[ 0.55678008,  0.10500046, -0.82399688],\n",
      "       [ 0.7896298 ,  0.24100823,  0.56426927],\n",
      "       [-0.25783856,  0.96482638, -0.05127709]])\n",
      "\n"
     ]
    }
   ],
   "source": [
    "mat = np.array([[4,7,0],[2,2,-6],[3,2,1]])\n",
    "print_vals(mat)\n",
    "u,s,v = np.linalg.svd(mat)\n",
    "print_svd(u,s,v)"
   ]
  },
  {
   "cell_type": "code",
   "execution_count": 365,
   "metadata": {
    "collapsed": false
   },
   "outputs": [
    {
     "name": "stdout",
     "output_type": "stream",
     "text": [
      "PA=LDU\n",
      "L\n",
      "array([[ 1.,  0.,  0.,  0.,  0.],\n",
      "       [ 0.,  1.,  0.,  0.,  0.],\n",
      "       [ 0.,  0.,  1.,  0.,  0.],\n",
      "       [ 0.,  1.,  0.,  1.,  0.],\n",
      "       [ 1.,  0.,  0., -0.,  1.]])\n",
      "\n",
      "P\n",
      "array([[ 1.,  0.,  0.,  0.,  0.],\n",
      "       [ 0.,  1.,  0.,  0.,  0.],\n",
      "       [ 0.,  0.,  1.,  0.,  0.],\n",
      "       [ 0.,  0.,  0.,  1.,  0.],\n",
      "       [ 0.,  0.,  0.,  0.,  1.]])\n",
      "\n",
      "U\n",
      "array([[ 1.,  0.,  0.,  0.,  1.],\n",
      "       [ 0.,  1.,  0.,  1.,  0.],\n",
      "       [ 0.,  0.,  1.,  0.,  0.],\n",
      "       [ 0.,  0.,  0.,  1., -0.],\n",
      "       [ 0.,  0.,  0.,  0.,  1.]])\n",
      "\n",
      "D\n",
      "array([[ 1.,  0.,  0.,  0.,  0.],\n",
      "       [ 0.,  1.,  0.,  0.,  0.],\n",
      "       [ 0.,  0.,  1.,  0.,  0.],\n",
      "       [ 0.,  0.,  0., -1.,  0.],\n",
      "       [ 0.,  0.,  0.,  0., -1.]])\n",
      "\n",
      "SVD -> A=USV*\n",
      "U\n",
      "array([[-0.85065081,  0.        ,  0.        , -0.52573111,  0.        ],\n",
      "       [ 0.        , -0.85065081,  0.        ,  0.        ,  0.52573111],\n",
      "       [ 0.        ,  0.        ,  1.        ,  0.        ,  0.        ],\n",
      "       [ 0.        , -0.52573111,  0.        ,  0.        , -0.85065081],\n",
      "       [-0.52573111,  0.        ,  0.        ,  0.85065081,  0.        ]])\n",
      "\n",
      "S\n",
      "array([ 1.61803399,  1.61803399,  1.        ,  0.61803399,  0.61803399])\n",
      "\n",
      "V\n",
      "array([[-0.85065081, -0.        ,  0.        ,  0.52573111, -0.        ],\n",
      "       [ 0.        , -0.85065081,  0.        ,  0.        , -0.52573111],\n",
      "       [ 0.        , -0.        ,  1.        ,  0.        , -0.        ],\n",
      "       [ 0.        , -0.52573111,  0.        ,  0.        ,  0.85065081],\n",
      "       [-0.52573111,  0.        ,  0.        , -0.85065081,  0.        ]])\n",
      "\n"
     ]
    }
   ],
   "source": [
    "mat = np.array([[1,0,0,0,1],\n",
    "                [0,1,0,1,0],\n",
    "                [0,0,1,0,0],\n",
    "                [0,1,0,0,0],\n",
    "                [1,0,0,0,0]])\n",
    "print_vals(mat)\n",
    "u,s,v = np.linalg.svd(mat)\n",
    "print_svd(u,s,v)"
   ]
  },
  {
   "cell_type": "code",
   "execution_count": 341,
   "metadata": {
    "collapsed": false
   },
   "outputs": [
    {
     "name": "stdout",
     "output_type": "stream",
     "text": [
      "PA=LDU\n",
      "L\n",
      "array([[ 1. ,  0. ,  0. ],\n",
      "       [ 0.4,  1. ,  0. ],\n",
      "       [ 0.4,  1. ,  1. ]])\n",
      "\n",
      "P\n",
      "array([[ 0.,  0.,  1.],\n",
      "       [ 1.,  0.,  0.],\n",
      "       [ 0.,  1.,  0.]])\n",
      "\n",
      "U\n",
      "array([[ 1.,  1.,  1.],\n",
      "       [ 0.,  1., -1.],\n",
      "       [ 0.,  0.,  1.]])\n",
      "\n",
      "D\n",
      "array([[ 5.,  0.,  0.],\n",
      "       [ 0., -1.,  0.],\n",
      "       [ 0.,  0., -1.]])\n",
      "\n",
      "SVD -> A=USV*\n",
      "U\n",
      "array([[-0.36351359,  0.8063118 ,  0.46660385],\n",
      "       [-0.29987866,  0.37293011, -0.87806373],\n",
      "       [-0.88200378, -0.45911264,  0.10623054]])\n",
      "\n",
      "S\n",
      "array([ 9.79103061,  1.4162264 ,  0.36058604])\n",
      "\n",
      "V\n",
      "array([[-0.58592436,  0.04442838, -0.80914693],\n",
      "       [-0.51816926, -0.78823645,  0.33193962],\n",
      "       [-0.62305157,  0.61376658,  0.48486836]])\n",
      "\n"
     ]
    }
   ],
   "source": [
    "mat = np.array([[2,1,3],\n",
    "               [2,1,2],\n",
    "               [5,5,5]])\n",
    "print_vals(mat)\n",
    "u,s,v = np.linalg.svd(mat)\n",
    "print_svd(u,s,v)"
   ]
  },
  {
   "cell_type": "markdown",
   "metadata": {},
   "source": [
    "# Q. 3"
   ]
  },
  {
   "cell_type": "code",
   "execution_count": 366,
   "metadata": {
    "collapsed": false
   },
   "outputs": [],
   "source": [
    "def solve(A, b):\n",
    "    u,s,v = np.linalg.svd(A)\n",
    "    s_inv = np.array([1/x if x>0.000001 else 0 for x in s])\n",
    "    x = v.T.dot(np.diag(s_inv)).dot(u.T).dot(b.T)\n",
    "    return x"
   ]
  },
  {
   "cell_type": "markdown",
   "metadata": {},
   "source": [
    "## a)"
   ]
  },
  {
   "cell_type": "code",
   "execution_count": 367,
   "metadata": {
    "collapsed": false
   },
   "outputs": [],
   "source": [
    "A = np.array([[2,1,3],\n",
    "              [2,1,2],\n",
    "              [5,5,5]])\n",
    "b = np.array([[5,-5,0]])"
   ]
  },
  {
   "cell_type": "code",
   "execution_count": 368,
   "metadata": {
    "collapsed": false
   },
   "outputs": [
    {
     "data": {
      "text/plain": [
       "array([[-15.],\n",
       "       [  5.],\n",
       "       [ 10.]])"
      ]
     },
     "execution_count": 368,
     "metadata": {},
     "output_type": "execute_result"
    }
   ],
   "source": [
    "solve(A,b)"
   ]
  },
  {
   "cell_type": "markdown",
   "metadata": {},
   "source": [
    "## b)"
   ]
  },
  {
   "cell_type": "code",
   "execution_count": 445,
   "metadata": {
    "collapsed": true
   },
   "outputs": [],
   "source": [
    "A = np.array([[4,7,0],\n",
    "              [2,2,-6],\n",
    "              [1,2,1]])\n",
    "b = np.array([3,5,1])"
   ]
  },
  {
   "cell_type": "code",
   "execution_count": 446,
   "metadata": {
    "collapsed": true
   },
   "outputs": [],
   "source": [
    "u,s,v = np.linalg.svd(A)"
   ]
  },
  {
   "cell_type": "code",
   "execution_count": 447,
   "metadata": {
    "collapsed": false
   },
   "outputs": [
    {
     "data": {
      "text/plain": [
       "array([  9.05538514e+00,   5.74456265e+00,   1.05319976e-16])"
      ]
     },
     "execution_count": 447,
     "metadata": {},
     "output_type": "execute_result"
    }
   ],
   "source": [
    "s"
   ]
  },
  {
   "cell_type": "markdown",
   "metadata": {},
   "source": [
    "Third element of s being extremely small compared to the first element of s, indicates a very high condition number. The matrix is singular."
   ]
  },
  {
   "cell_type": "code",
   "execution_count": 451,
   "metadata": {
    "collapsed": false
   },
   "outputs": [
    {
     "name": "stdout",
     "output_type": "stream",
     "text": [
      "array([[ 4,  7,  0,  3],\n",
      "       [ 2,  2, -6,  5],\n",
      "       [ 1,  2,  1,  1]])\n"
     ]
    }
   ],
   "source": [
    "M = np.hstack((A,b.reshape(-1,1)))\n",
    "pprint(M)"
   ]
  },
  {
   "cell_type": "code",
   "execution_count": 452,
   "metadata": {
    "collapsed": false
   },
   "outputs": [],
   "source": [
    "u,s,v = np.linalg.svd(M)"
   ]
  },
  {
   "cell_type": "code",
   "execution_count": 453,
   "metadata": {
    "collapsed": false
   },
   "outputs": [
    {
     "data": {
      "text/plain": [
       "array([ 10.582197  ,   6.13396284,   0.62578477])"
      ]
     },
     "execution_count": 453,
     "metadata": {},
     "output_type": "execute_result"
    }
   ],
   "source": [
    "s"
   ]
  },
  {
   "cell_type": "markdown",
   "metadata": {},
   "source": [
    "Since the matrix M is not singular, the system contains no solution"
   ]
  },
  {
   "cell_type": "code",
   "execution_count": 454,
   "metadata": {
    "collapsed": false
   },
   "outputs": [
    {
     "data": {
      "text/plain": [
       "array([ 0.26644494,  0.31116038, -0.62047302])"
      ]
     },
     "execution_count": 454,
     "metadata": {},
     "output_type": "execute_result"
    }
   ],
   "source": [
    "solve(A,b)"
   ]
  },
  {
   "cell_type": "markdown",
   "metadata": {},
   "source": [
    "Which is the least square solution"
   ]
  },
  {
   "cell_type": "markdown",
   "metadata": {},
   "source": [
    "## c)"
   ]
  },
  {
   "cell_type": "code",
   "execution_count": 455,
   "metadata": {
    "collapsed": false
   },
   "outputs": [],
   "source": [
    "A = np.array([[4,7,0],\n",
    "              [2,2,-6],\n",
    "              [1,2,1]])\n",
    "b = np.array([18,-12,8])"
   ]
  },
  {
   "cell_type": "code",
   "execution_count": 456,
   "metadata": {
    "collapsed": false
   },
   "outputs": [],
   "source": [
    "u,s,v = np.linalg.svd(A)"
   ]
  },
  {
   "cell_type": "code",
   "execution_count": 457,
   "metadata": {
    "collapsed": false
   },
   "outputs": [
    {
     "data": {
      "text/plain": [
       "array([  9.05538514e+00,   5.74456265e+00,   1.05319976e-16])"
      ]
     },
     "execution_count": 457,
     "metadata": {},
     "output_type": "execute_result"
    }
   ],
   "source": [
    "s"
   ]
  },
  {
   "cell_type": "markdown",
   "metadata": {},
   "source": [
    "Third element of s being extremely small compared to the first element of s, indicates a very high condition number. The matrix is singular."
   ]
  },
  {
   "cell_type": "code",
   "execution_count": 441,
   "metadata": {
    "collapsed": false
   },
   "outputs": [],
   "source": [
    "M = np.hstack((A,b.reshape(-1,1)))"
   ]
  },
  {
   "cell_type": "code",
   "execution_count": 442,
   "metadata": {
    "collapsed": false
   },
   "outputs": [
    {
     "name": "stdout",
     "output_type": "stream",
     "text": [
      "array([[  4,   7,   0,  18],\n",
      "       [  2,   2,  -6, -12],\n",
      "       [  1,   2,   1,   8]])\n"
     ]
    }
   ],
   "source": [
    "pprint(M)"
   ]
  },
  {
   "cell_type": "code",
   "execution_count": 443,
   "metadata": {
    "collapsed": false
   },
   "outputs": [],
   "source": [
    "u,s,v = np.linalg.svd(M)"
   ]
  },
  {
   "cell_type": "code",
   "execution_count": 444,
   "metadata": {
    "collapsed": false
   },
   "outputs": [
    {
     "data": {
      "text/plain": [
       "array([  2.40193460e+01,   8.37084320e+00,   2.69857931e-15])"
      ]
     },
     "execution_count": 444,
     "metadata": {},
     "output_type": "execute_result"
    }
   ],
   "source": [
    "s"
   ]
  },
  {
   "cell_type": "markdown",
   "metadata": {},
   "source": [
    "The matrix M is singular, the system of contains infinitely many solutions."
   ]
  },
  {
   "cell_type": "code",
   "execution_count": 414,
   "metadata": {
    "collapsed": false
   },
   "outputs": [
    {
     "data": {
      "text/plain": [
       "array([ 0.78787879,  2.12121212,  2.96969697])"
      ]
     },
     "execution_count": 414,
     "metadata": {},
     "output_type": "execute_result"
    }
   ],
   "source": [
    "solve(A,b)"
   ]
  }
 ],
 "metadata": {
  "anaconda-cloud": {},
  "kernelspec": {
   "display_name": "Python [conda env:condatensorflow]",
   "language": "python",
   "name": "conda-env-condatensorflow-py"
  },
  "language_info": {
   "codemirror_mode": {
    "name": "ipython",
    "version": 3
   },
   "file_extension": ".py",
   "mimetype": "text/x-python",
   "name": "python",
   "nbconvert_exporter": "python",
   "pygments_lexer": "ipython3",
   "version": "3.5.2"
  }
 },
 "nbformat": 4,
 "nbformat_minor": 1
}
