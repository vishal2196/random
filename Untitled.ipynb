{
 "cells": [
  {
   "cell_type": "code",
   "execution_count": 1,
   "metadata": {
    "collapsed": true
   },
   "outputs": [],
   "source": [
    "import numpy as np\n",
    "a = [[0,0,1,1,0,1,1,0,0,0],\n",
    "[1,0,1,1,0,1,1,0,0,0],\n",
    "[0,0,1,1,0,1,1,0,0,0],\n",
    "[0,0,1,1,0,1,1,0,1,0],\n",
    "[1,0,1,1,0,1,1,0,0,0],\n",
    "[1,0,1,1,0,1,1,0,0,0],\n",
    "[0,0,1,1,0,1,1,0,0,0],\n",
    "[1,0,1,1,0,1,1,0,0,0],\n",
    "[0,1,0,0,1,0,0,1,0,1],\n",
    "[1,0,1,1,0,1,1,0,0,0]]"
   ]
  },
  {
   "cell_type": "code",
   "execution_count": 2,
   "metadata": {},
   "outputs": [
    {
     "data": {
      "text/plain": [
       "[[0, 0, 1, 1, 0, 1, 1, 0, 0, 0],\n",
       " [1, 0, 1, 1, 0, 1, 1, 0, 0, 0],\n",
       " [0, 0, 1, 1, 0, 1, 1, 0, 0, 0],\n",
       " [0, 0, 1, 1, 0, 1, 1, 0, 1, 0],\n",
       " [1, 0, 1, 1, 0, 1, 1, 0, 0, 0],\n",
       " [1, 0, 1, 1, 0, 1, 1, 0, 0, 0],\n",
       " [0, 0, 1, 1, 0, 1, 1, 0, 0, 0],\n",
       " [1, 0, 1, 1, 0, 1, 1, 0, 0, 0],\n",
       " [0, 1, 0, 0, 1, 0, 0, 1, 0, 1],\n",
       " [1, 0, 1, 1, 0, 1, 1, 0, 0, 0]]"
      ]
     },
     "execution_count": 2,
     "metadata": {},
     "output_type": "execute_result"
    }
   ],
   "source": [
    "a"
   ]
  },
  {
   "cell_type": "code",
   "execution_count": 3,
   "metadata": {
    "collapsed": true
   },
   "outputs": [],
   "source": [
    "a = np.asarray(a)"
   ]
  },
  {
   "cell_type": "code",
   "execution_count": 4,
   "metadata": {},
   "outputs": [
    {
     "data": {
      "text/plain": [
       "array([[0, 0, 1, 1, 0, 1, 1, 0, 0, 0],\n",
       "       [1, 0, 1, 1, 0, 1, 1, 0, 0, 0],\n",
       "       [0, 0, 1, 1, 0, 1, 1, 0, 0, 0],\n",
       "       [0, 0, 1, 1, 0, 1, 1, 0, 1, 0],\n",
       "       [1, 0, 1, 1, 0, 1, 1, 0, 0, 0],\n",
       "       [1, 0, 1, 1, 0, 1, 1, 0, 0, 0],\n",
       "       [0, 0, 1, 1, 0, 1, 1, 0, 0, 0],\n",
       "       [1, 0, 1, 1, 0, 1, 1, 0, 0, 0],\n",
       "       [0, 1, 0, 0, 1, 0, 0, 1, 0, 1],\n",
       "       [1, 0, 1, 1, 0, 1, 1, 0, 0, 0]])"
      ]
     },
     "execution_count": 4,
     "metadata": {},
     "output_type": "execute_result"
    }
   ],
   "source": [
    "a"
   ]
  },
  {
   "cell_type": "code",
   "execution_count": 5,
   "metadata": {
    "collapsed": true
   },
   "outputs": [],
   "source": [
    "a = a.T"
   ]
  },
  {
   "cell_type": "code",
   "execution_count": 10,
   "metadata": {},
   "outputs": [
    {
     "data": {
      "text/plain": [
       "array([[0, 1, 0, 0, 1, 1, 0, 1, 0, 1],\n",
       "       [0, 0, 0, 0, 0, 0, 0, 0, 1, 0],\n",
       "       [1, 1, 1, 1, 1, 1, 1, 1, 0, 1],\n",
       "       [1, 1, 1, 1, 1, 1, 1, 1, 0, 1],\n",
       "       [0, 0, 0, 0, 0, 0, 0, 0, 1, 0],\n",
       "       [1, 1, 1, 1, 1, 1, 1, 1, 0, 1],\n",
       "       [1, 1, 1, 1, 1, 1, 1, 1, 0, 1],\n",
       "       [0, 0, 0, 0, 0, 0, 0, 0, 1, 0],\n",
       "       [0, 0, 0, 1, 0, 0, 0, 0, 0, 0],\n",
       "       [0, 0, 0, 0, 0, 0, 0, 0, 1, 0]])"
      ]
     },
     "execution_count": 10,
     "metadata": {},
     "output_type": "execute_result"
    }
   ],
   "source": [
    "a"
   ]
  },
  {
   "cell_type": "code",
   "execution_count": 7,
   "metadata": {
    "collapsed": true
   },
   "outputs": [],
   "source": [
    "row_value = []\n",
    "for i in range(0,len(a)):\n",
    "    s = \"\"\n",
    "    for j in range(0,len(a[0])):\n",
    "        s = s+str(a[i][j])\n",
    "    row_value.append(s)\n",
    "    "
   ]
  },
  {
   "cell_type": "code",
   "execution_count": 8,
   "metadata": {},
   "outputs": [
    {
     "data": {
      "text/plain": [
       "['0100110101',\n",
       " '0000000010',\n",
       " '1111111101',\n",
       " '1111111101',\n",
       " '0000000010',\n",
       " '1111111101',\n",
       " '1111111101',\n",
       " '0000000010',\n",
       " '0001000000',\n",
       " '0000000010']"
      ]
     },
     "execution_count": 8,
     "metadata": {},
     "output_type": "execute_result"
    }
   ],
   "source": [
    "row_value"
   ]
  },
  {
   "cell_type": "code",
   "execution_count": 15,
   "metadata": {},
   "outputs": [],
   "source": [
    "row_value_decimal = []\n",
    "for i in range(0,len(row_value)):\n",
    "    row_value_decimal.append(int(row_value[i], base=2))"
   ]
  },
  {
   "cell_type": "code",
   "execution_count": 16,
   "metadata": {},
   "outputs": [
    {
     "data": {
      "text/plain": [
       "[309, 2, 1021, 1021, 2, 1021, 1021, 2, 64, 2]"
      ]
     },
     "execution_count": 16,
     "metadata": {},
     "output_type": "execute_result"
    }
   ],
   "source": [
    "row_value_decimal"
   ]
  },
  {
   "cell_type": "code",
   "execution_count": 17,
   "metadata": {},
   "outputs": [
    {
     "data": {
      "text/plain": [
       "['0', '1', '0', '0', '1', '1', '0', '1', '0', '1']"
      ]
     },
     "execution_count": 17,
     "metadata": {},
     "output_type": "execute_result"
    }
   ],
   "source": [
    "list(row_value[0])"
   ]
  },
  {
   "cell_type": "code",
   "execution_count": 19,
   "metadata": {},
   "outputs": [
    {
     "data": {
      "text/plain": [
       "['1111111101',\n",
       " '1111111101',\n",
       " '1111111101',\n",
       " '1111111101',\n",
       " '0100110101',\n",
       " '0001000000',\n",
       " '0000000010',\n",
       " '0000000010',\n",
       " '0000000010',\n",
       " '0000000010']"
      ]
     },
     "execution_count": 19,
     "metadata": {},
     "output_type": "execute_result"
    }
   ],
   "source": [
    "sorted(row_value, reverse=True)"
   ]
  },
  {
   "cell_type": "code",
   "execution_count": 20,
   "metadata": {
    "collapsed": true
   },
   "outputs": [],
   "source": [
    "row_value = sorted(row_value, reverse=True)"
   ]
  },
  {
   "cell_type": "code",
   "execution_count": 21,
   "metadata": {},
   "outputs": [
    {
     "data": {
      "text/plain": [
       "['1111111101',\n",
       " '1111111101',\n",
       " '1111111101',\n",
       " '1111111101',\n",
       " '0100110101',\n",
       " '0001000000',\n",
       " '0000000010',\n",
       " '0000000010',\n",
       " '0000000010',\n",
       " '0000000010']"
      ]
     },
     "execution_count": 21,
     "metadata": {},
     "output_type": "execute_result"
    }
   ],
   "source": [
    "row_value"
   ]
  },
  {
   "cell_type": "code",
   "execution_count": 24,
   "metadata": {
    "collapsed": true
   },
   "outputs": [],
   "source": [
    "sorted_a = []\n",
    "for i in range(0,len(row_value)):\n",
    "    sorted_a.append(list(row_value[i]))"
   ]
  },
  {
   "cell_type": "code",
   "execution_count": 25,
   "metadata": {},
   "outputs": [
    {
     "data": {
      "text/plain": [
       "[['1', '1', '1', '1', '1', '1', '1', '1', '0', '1'],\n",
       " ['1', '1', '1', '1', '1', '1', '1', '1', '0', '1'],\n",
       " ['1', '1', '1', '1', '1', '1', '1', '1', '0', '1'],\n",
       " ['1', '1', '1', '1', '1', '1', '1', '1', '0', '1'],\n",
       " ['0', '1', '0', '0', '1', '1', '0', '1', '0', '1'],\n",
       " ['0', '0', '0', '1', '0', '0', '0', '0', '0', '0'],\n",
       " ['0', '0', '0', '0', '0', '0', '0', '0', '1', '0'],\n",
       " ['0', '0', '0', '0', '0', '0', '0', '0', '1', '0'],\n",
       " ['0', '0', '0', '0', '0', '0', '0', '0', '1', '0'],\n",
       " ['0', '0', '0', '0', '0', '0', '0', '0', '1', '0']]"
      ]
     },
     "execution_count": 25,
     "metadata": {},
     "output_type": "execute_result"
    }
   ],
   "source": [
    "sorted_a"
   ]
  },
  {
   "cell_type": "code",
   "execution_count": null,
   "metadata": {
    "collapsed": true
   },
   "outputs": [],
   "source": []
  },
  {
   "cell_type": "code",
   "execution_count": 30,
   "metadata": {},
   "outputs": [],
   "source": [
    "one_count = []\n",
    "for j in range(0,len(sorted_a[0])):\n",
    "    count = 0\n",
    "    for i in range(0,len(sorted_a)):\n",
    "        if sorted_a[i][j]=='1':\n",
    "            count=count+1\n",
    "            #print \"hi\"\n",
    "    one_count.append(count)"
   ]
  },
  {
   "cell_type": "code",
   "execution_count": 31,
   "metadata": {},
   "outputs": [
    {
     "data": {
      "text/plain": [
       "[4, 5, 4, 5, 5, 5, 4, 5, 4, 5]"
      ]
     },
     "execution_count": 31,
     "metadata": {},
     "output_type": "execute_result"
    }
   ],
   "source": [
    "one_count"
   ]
  },
  {
   "cell_type": "code",
   "execution_count": 38,
   "metadata": {},
   "outputs": [
    {
     "name": "stdout",
     "output_type": "stream",
     "text": [
      "not a subset, but intersecting\n",
      "0\n",
      "Subset\n",
      "1\n",
      "not a subset, but intersecting\n",
      "2\n",
      "not a subset, but intersecting\n",
      "3\n",
      "Subset\n",
      "4\n",
      "Subset\n",
      "5\n",
      "not a subset, but intersecting\n",
      "6\n",
      "No intersection\n",
      "7\n",
      "No intersection\n",
      "8\n"
     ]
    }
   ],
   "source": [
    "for j in range(0,len(sorted_a[0])-1):\n",
    "    subset_check = 0\n",
    "    for i in range(0,len(sorted_a)):\n",
    "        if sorted_a[i][j]=='1' and sorted_a[i][j+1]=='1':\n",
    "            subset_check+=1\n",
    "    if subset_check == one_count[j+1]:\n",
    "        print \"Subset\"\n",
    "    elif subset_check == 0:\n",
    "        print \"No intersection\"\n",
    "    else:\n",
    "        print \"not a subset, but intersecting\"\n",
    "    print j"
   ]
  },
  {
   "cell_type": "code",
   "execution_count": 34,
   "metadata": {},
   "outputs": [
    {
     "data": {
      "text/plain": [
       "10"
      ]
     },
     "execution_count": 34,
     "metadata": {},
     "output_type": "execute_result"
    }
   ],
   "source": [
    "len(sorted_a[0])"
   ]
  }
 ],
 "metadata": {
  "kernelspec": {
   "display_name": "Python 2",
   "language": "python",
   "name": "python2"
  },
  "language_info": {
   "codemirror_mode": {
    "name": "ipython",
    "version": 2
   },
   "file_extension": ".py",
   "mimetype": "text/x-python",
   "name": "python",
   "nbconvert_exporter": "python",
   "pygments_lexer": "ipython2",
   "version": "2.7.13"
  }
 },
 "nbformat": 4,
 "nbformat_minor": 2
}
